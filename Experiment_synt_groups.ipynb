{
  "cells": [
    {
      "cell_type": "code",
      "execution_count": null,
      "id": "87bcfc14",
      "metadata": {
        "id": "87bcfc14"
      },
      "outputs": [],
      "source": [
        "import pandas as pd"
      ]
    },
    {
      "cell_type": "code",
      "execution_count": null,
      "id": "20d96f3b",
      "metadata": {
        "id": "20d96f3b"
      },
      "outputs": [],
      "source": [
        "train_asp = pd.read_csv(\n",
        "    'dev_pred_aspects_2.txt', \n",
        "    delimiter='\\t', \n",
        "    names=['text_id', 'category', 'mention', 'start', 'end', 'sentiment']\n",
        ")\n",
        "train_texts = pd.read_csv('dev_reviews.txt', delimiter='\\t', names=['text_id','text'])"
      ]
    },
    {
      "cell_type": "code",
      "source": [
        "import nltk\n",
        "nltk.download('punkt')"
      ],
      "metadata": {
        "colab": {
          "base_uri": "https://localhost:8080/"
        },
        "id": "gCvr0djlT8Ni",
        "outputId": "fb3032cc-ee21-4c10-d3d2-9b9186baaab5"
      },
      "id": "gCvr0djlT8Ni",
      "execution_count": null,
      "outputs": [
        {
          "output_type": "stream",
          "name": "stdout",
          "text": [
            "[nltk_data] Downloading package punkt to /root/nltk_data...\n",
            "[nltk_data]   Package punkt is already up-to-date!\n"
          ]
        },
        {
          "output_type": "execute_result",
          "data": {
            "text/plain": [
              "True"
            ]
          },
          "metadata": {},
          "execution_count": 20
        }
      ]
    },
    {
      "cell_type": "code",
      "source": [
        "from tqdm import tqdm\n",
        "tqdm.pandas()"
      ],
      "metadata": {
        "id": "u5OP7y9wQbhP"
      },
      "id": "u5OP7y9wQbhP",
      "execution_count": null,
      "outputs": []
    },
    {
      "cell_type": "code",
      "source": [
        "result = pd.merge(train_asp, train_texts, on=\"text_id\", how=\"outer\")"
      ],
      "metadata": {
        "id": "jR_wVkIqUPRb"
      },
      "id": "jR_wVkIqUPRb",
      "execution_count": null,
      "outputs": []
    },
    {
      "cell_type": "code",
      "source": [
        "result = result.loc[result['sentiment'] != 'both']"
      ],
      "metadata": {
        "id": "_rgb6Aby3R35"
      },
      "id": "_rgb6Aby3R35",
      "execution_count": null,
      "outputs": []
    },
    {
      "cell_type": "code",
      "source": [
        "def get_context(text, start,\tend,\tleft_win, right_win):\n",
        "  start_index, end_index = word_index(text, start, end)\n",
        "  text_split = text.split()\n",
        "  result = []\n",
        "  for i in range(left_win):\n",
        "    if start_index - (left_win - i + 1) > 0:\n",
        "      result.append(text_split[start_index - (left_win - i + 1)])\n",
        "  result.append(text[start:end])\n",
        "  for i in range(right_win):\n",
        "    if end_index + i < len(text_split):\n",
        "      result.append(text_split[end_index + i])\n",
        "  return result"
      ],
      "metadata": {
        "id": "qQdUoYNwlEyy"
      },
      "id": "qQdUoYNwlEyy",
      "execution_count": null,
      "outputs": []
    },
    {
      "cell_type": "code",
      "source": [
        "kartaslov = pd.read_csv('kartaslovsent_4.csv', sep=';')"
      ],
      "metadata": {
        "id": "Q24WZ-dQceyZ"
      },
      "id": "Q24WZ-dQceyZ",
      "execution_count": null,
      "outputs": []
    },
    {
      "cell_type": "code",
      "source": [
        "!pip install -U pip setuptools wheel\n",
        "\n",
        "!pip install -U spacy\n",
        "\n",
        "!python -m spacy download ru_core_news_lg"
      ],
      "metadata": {
        "colab": {
          "base_uri": "https://localhost:8080/"
        },
        "id": "Xnr7NRMYOCP3",
        "outputId": "700ac746-d237-4053-f7b9-6bace1933006"
      },
      "id": "Xnr7NRMYOCP3",
      "execution_count": null,
      "outputs": [
        {
          "output_type": "stream",
          "name": "stdout",
          "text": [
            "Requirement already satisfied: pip in /usr/local/lib/python3.7/dist-packages (21.3.1)\n",
            "Requirement already satisfied: setuptools in /usr/local/lib/python3.7/dist-packages (60.1.0)\n",
            "Requirement already satisfied: wheel in /usr/local/lib/python3.7/dist-packages (0.37.1)\n",
            "\u001b[33mWARNING: Running pip as the 'root' user can result in broken permissions and conflicting behaviour with the system package manager. It is recommended to use a virtual environment instead: https://pip.pypa.io/warnings/venv\u001b[0m\n",
            "Requirement already satisfied: spacy in /usr/local/lib/python3.7/dist-packages (3.2.1)\n",
            "Requirement already satisfied: packaging>=20.0 in /usr/local/lib/python3.7/dist-packages (from spacy) (21.3)\n",
            "Requirement already satisfied: murmurhash<1.1.0,>=0.28.0 in /usr/local/lib/python3.7/dist-packages (from spacy) (1.0.6)\n",
            "Requirement already satisfied: thinc<8.1.0,>=8.0.12 in /usr/local/lib/python3.7/dist-packages (from spacy) (8.0.13)\n",
            "Requirement already satisfied: pydantic!=1.8,!=1.8.1,<1.9.0,>=1.7.4 in /usr/local/lib/python3.7/dist-packages (from spacy) (1.8.2)\n",
            "Requirement already satisfied: typer<0.5.0,>=0.3.0 in /usr/local/lib/python3.7/dist-packages (from spacy) (0.4.0)\n",
            "Requirement already satisfied: numpy>=1.15.0 in /usr/local/lib/python3.7/dist-packages (from spacy) (1.19.5)\n",
            "Requirement already satisfied: spacy-loggers<2.0.0,>=1.0.0 in /usr/local/lib/python3.7/dist-packages (from spacy) (1.0.1)\n",
            "Requirement already satisfied: catalogue<2.1.0,>=2.0.6 in /usr/local/lib/python3.7/dist-packages (from spacy) (2.0.6)\n",
            "Requirement already satisfied: langcodes<4.0.0,>=3.2.0 in /usr/local/lib/python3.7/dist-packages (from spacy) (3.3.0)\n",
            "Requirement already satisfied: requests<3.0.0,>=2.13.0 in /usr/local/lib/python3.7/dist-packages (from spacy) (2.23.0)\n",
            "Requirement already satisfied: typing-extensions<4.0.0.0,>=3.7.4 in /usr/local/lib/python3.7/dist-packages (from spacy) (3.10.0.2)\n",
            "Requirement already satisfied: srsly<3.0.0,>=2.4.1 in /usr/local/lib/python3.7/dist-packages (from spacy) (2.4.2)\n",
            "Requirement already satisfied: cymem<2.1.0,>=2.0.2 in /usr/local/lib/python3.7/dist-packages (from spacy) (2.0.6)\n",
            "Requirement already satisfied: spacy-legacy<3.1.0,>=3.0.8 in /usr/local/lib/python3.7/dist-packages (from spacy) (3.0.8)\n",
            "Requirement already satisfied: setuptools in /usr/local/lib/python3.7/dist-packages (from spacy) (60.1.0)\n",
            "Requirement already satisfied: blis<0.8.0,>=0.4.0 in /usr/local/lib/python3.7/dist-packages (from spacy) (0.4.1)\n",
            "Requirement already satisfied: preshed<3.1.0,>=3.0.2 in /usr/local/lib/python3.7/dist-packages (from spacy) (3.0.6)\n",
            "Requirement already satisfied: wasabi<1.1.0,>=0.8.1 in /usr/local/lib/python3.7/dist-packages (from spacy) (0.8.2)\n",
            "Requirement already satisfied: pathy>=0.3.5 in /usr/local/lib/python3.7/dist-packages (from spacy) (0.6.1)\n",
            "Requirement already satisfied: jinja2 in /usr/local/lib/python3.7/dist-packages (from spacy) (2.11.3)\n",
            "Requirement already satisfied: tqdm<5.0.0,>=4.38.0 in /usr/local/lib/python3.7/dist-packages (from spacy) (4.62.3)\n",
            "Requirement already satisfied: zipp>=0.5 in /usr/local/lib/python3.7/dist-packages (from catalogue<2.1.0,>=2.0.6->spacy) (3.6.0)\n",
            "Requirement already satisfied: pyparsing!=3.0.5,>=2.0.2 in /usr/local/lib/python3.7/dist-packages (from packaging>=20.0->spacy) (3.0.6)\n",
            "Requirement already satisfied: smart-open<6.0.0,>=5.0.0 in /usr/local/lib/python3.7/dist-packages (from pathy>=0.3.5->spacy) (5.2.1)\n",
            "Requirement already satisfied: idna<3,>=2.5 in /usr/local/lib/python3.7/dist-packages (from requests<3.0.0,>=2.13.0->spacy) (2.10)\n",
            "Requirement already satisfied: certifi>=2017.4.17 in /usr/local/lib/python3.7/dist-packages (from requests<3.0.0,>=2.13.0->spacy) (2021.10.8)\n",
            "Requirement already satisfied: urllib3!=1.25.0,!=1.25.1,<1.26,>=1.21.1 in /usr/local/lib/python3.7/dist-packages (from requests<3.0.0,>=2.13.0->spacy) (1.24.3)\n",
            "Requirement already satisfied: chardet<4,>=3.0.2 in /usr/local/lib/python3.7/dist-packages (from requests<3.0.0,>=2.13.0->spacy) (3.0.4)\n",
            "Requirement already satisfied: click<9.0.0,>=7.1.1 in /usr/local/lib/python3.7/dist-packages (from typer<0.5.0,>=0.3.0->spacy) (7.1.2)\n",
            "Requirement already satisfied: MarkupSafe>=0.23 in /usr/local/lib/python3.7/dist-packages (from jinja2->spacy) (2.0.1)\n",
            "\u001b[33mWARNING: Running pip as the 'root' user can result in broken permissions and conflicting behaviour with the system package manager. It is recommended to use a virtual environment instead: https://pip.pypa.io/warnings/venv\u001b[0m\n",
            "Collecting ru-core-news-lg==3.2.0\n",
            "  Downloading https://github.com/explosion/spacy-models/releases/download/ru_core_news_lg-3.2.0/ru_core_news_lg-3.2.0-py3-none-any.whl (514.5 MB)\n",
            "     |████████████████████████████████| 514.5 MB 8.7 kB/s             \n",
            "\u001b[?25hRequirement already satisfied: spacy<3.3.0,>=3.2.0 in /usr/local/lib/python3.7/dist-packages (from ru-core-news-lg==3.2.0) (3.2.1)\n",
            "Requirement already satisfied: pymorphy2>=0.9 in /usr/local/lib/python3.7/dist-packages (from ru-core-news-lg==3.2.0) (0.9.1)\n",
            "Requirement already satisfied: docopt>=0.6 in /usr/local/lib/python3.7/dist-packages (from pymorphy2>=0.9->ru-core-news-lg==3.2.0) (0.6.2)\n",
            "Requirement already satisfied: pymorphy2-dicts-ru<3.0,>=2.4 in /usr/local/lib/python3.7/dist-packages (from pymorphy2>=0.9->ru-core-news-lg==3.2.0) (2.4.417127.4579844)\n",
            "Requirement already satisfied: dawg-python>=0.7.1 in /usr/local/lib/python3.7/dist-packages (from pymorphy2>=0.9->ru-core-news-lg==3.2.0) (0.7.2)\n",
            "Requirement already satisfied: srsly<3.0.0,>=2.4.1 in /usr/local/lib/python3.7/dist-packages (from spacy<3.3.0,>=3.2.0->ru-core-news-lg==3.2.0) (2.4.2)\n",
            "Requirement already satisfied: catalogue<2.1.0,>=2.0.6 in /usr/local/lib/python3.7/dist-packages (from spacy<3.3.0,>=3.2.0->ru-core-news-lg==3.2.0) (2.0.6)\n",
            "Requirement already satisfied: setuptools in /usr/local/lib/python3.7/dist-packages (from spacy<3.3.0,>=3.2.0->ru-core-news-lg==3.2.0) (60.1.0)\n",
            "Requirement already satisfied: packaging>=20.0 in /usr/local/lib/python3.7/dist-packages (from spacy<3.3.0,>=3.2.0->ru-core-news-lg==3.2.0) (21.3)\n",
            "Requirement already satisfied: typing-extensions<4.0.0.0,>=3.7.4 in /usr/local/lib/python3.7/dist-packages (from spacy<3.3.0,>=3.2.0->ru-core-news-lg==3.2.0) (3.10.0.2)\n",
            "Requirement already satisfied: murmurhash<1.1.0,>=0.28.0 in /usr/local/lib/python3.7/dist-packages (from spacy<3.3.0,>=3.2.0->ru-core-news-lg==3.2.0) (1.0.6)\n",
            "Requirement already satisfied: numpy>=1.15.0 in /usr/local/lib/python3.7/dist-packages (from spacy<3.3.0,>=3.2.0->ru-core-news-lg==3.2.0) (1.19.5)\n",
            "Requirement already satisfied: spacy-loggers<2.0.0,>=1.0.0 in /usr/local/lib/python3.7/dist-packages (from spacy<3.3.0,>=3.2.0->ru-core-news-lg==3.2.0) (1.0.1)\n",
            "Requirement already satisfied: jinja2 in /usr/local/lib/python3.7/dist-packages (from spacy<3.3.0,>=3.2.0->ru-core-news-lg==3.2.0) (2.11.3)\n",
            "Requirement already satisfied: thinc<8.1.0,>=8.0.12 in /usr/local/lib/python3.7/dist-packages (from spacy<3.3.0,>=3.2.0->ru-core-news-lg==3.2.0) (8.0.13)\n",
            "Requirement already satisfied: langcodes<4.0.0,>=3.2.0 in /usr/local/lib/python3.7/dist-packages (from spacy<3.3.0,>=3.2.0->ru-core-news-lg==3.2.0) (3.3.0)\n",
            "Requirement already satisfied: requests<3.0.0,>=2.13.0 in /usr/local/lib/python3.7/dist-packages (from spacy<3.3.0,>=3.2.0->ru-core-news-lg==3.2.0) (2.23.0)\n",
            "Requirement already satisfied: pydantic!=1.8,!=1.8.1,<1.9.0,>=1.7.4 in /usr/local/lib/python3.7/dist-packages (from spacy<3.3.0,>=3.2.0->ru-core-news-lg==3.2.0) (1.8.2)\n",
            "Requirement already satisfied: typer<0.5.0,>=0.3.0 in /usr/local/lib/python3.7/dist-packages (from spacy<3.3.0,>=3.2.0->ru-core-news-lg==3.2.0) (0.4.0)\n",
            "Requirement already satisfied: preshed<3.1.0,>=3.0.2 in /usr/local/lib/python3.7/dist-packages (from spacy<3.3.0,>=3.2.0->ru-core-news-lg==3.2.0) (3.0.6)\n",
            "Requirement already satisfied: tqdm<5.0.0,>=4.38.0 in /usr/local/lib/python3.7/dist-packages (from spacy<3.3.0,>=3.2.0->ru-core-news-lg==3.2.0) (4.62.3)\n",
            "Requirement already satisfied: wasabi<1.1.0,>=0.8.1 in /usr/local/lib/python3.7/dist-packages (from spacy<3.3.0,>=3.2.0->ru-core-news-lg==3.2.0) (0.8.2)\n",
            "Requirement already satisfied: cymem<2.1.0,>=2.0.2 in /usr/local/lib/python3.7/dist-packages (from spacy<3.3.0,>=3.2.0->ru-core-news-lg==3.2.0) (2.0.6)\n",
            "Requirement already satisfied: spacy-legacy<3.1.0,>=3.0.8 in /usr/local/lib/python3.7/dist-packages (from spacy<3.3.0,>=3.2.0->ru-core-news-lg==3.2.0) (3.0.8)\n",
            "Requirement already satisfied: pathy>=0.3.5 in /usr/local/lib/python3.7/dist-packages (from spacy<3.3.0,>=3.2.0->ru-core-news-lg==3.2.0) (0.6.1)\n",
            "Requirement already satisfied: blis<0.8.0,>=0.4.0 in /usr/local/lib/python3.7/dist-packages (from spacy<3.3.0,>=3.2.0->ru-core-news-lg==3.2.0) (0.4.1)\n",
            "Requirement already satisfied: zipp>=0.5 in /usr/local/lib/python3.7/dist-packages (from catalogue<2.1.0,>=2.0.6->spacy<3.3.0,>=3.2.0->ru-core-news-lg==3.2.0) (3.6.0)\n",
            "Requirement already satisfied: pyparsing!=3.0.5,>=2.0.2 in /usr/local/lib/python3.7/dist-packages (from packaging>=20.0->spacy<3.3.0,>=3.2.0->ru-core-news-lg==3.2.0) (3.0.6)\n",
            "Requirement already satisfied: smart-open<6.0.0,>=5.0.0 in /usr/local/lib/python3.7/dist-packages (from pathy>=0.3.5->spacy<3.3.0,>=3.2.0->ru-core-news-lg==3.2.0) (5.2.1)\n",
            "Requirement already satisfied: urllib3!=1.25.0,!=1.25.1,<1.26,>=1.21.1 in /usr/local/lib/python3.7/dist-packages (from requests<3.0.0,>=2.13.0->spacy<3.3.0,>=3.2.0->ru-core-news-lg==3.2.0) (1.24.3)\n",
            "Requirement already satisfied: chardet<4,>=3.0.2 in /usr/local/lib/python3.7/dist-packages (from requests<3.0.0,>=2.13.0->spacy<3.3.0,>=3.2.0->ru-core-news-lg==3.2.0) (3.0.4)\n",
            "Requirement already satisfied: idna<3,>=2.5 in /usr/local/lib/python3.7/dist-packages (from requests<3.0.0,>=2.13.0->spacy<3.3.0,>=3.2.0->ru-core-news-lg==3.2.0) (2.10)\n",
            "Requirement already satisfied: certifi>=2017.4.17 in /usr/local/lib/python3.7/dist-packages (from requests<3.0.0,>=2.13.0->spacy<3.3.0,>=3.2.0->ru-core-news-lg==3.2.0) (2021.10.8)\n",
            "Requirement already satisfied: click<9.0.0,>=7.1.1 in /usr/local/lib/python3.7/dist-packages (from typer<0.5.0,>=0.3.0->spacy<3.3.0,>=3.2.0->ru-core-news-lg==3.2.0) (7.1.2)\n",
            "Requirement already satisfied: MarkupSafe>=0.23 in /usr/local/lib/python3.7/dist-packages (from jinja2->spacy<3.3.0,>=3.2.0->ru-core-news-lg==3.2.0) (2.0.1)\n",
            "\u001b[33mWARNING: Running pip as the 'root' user can result in broken permissions and conflicting behaviour with the system package manager. It is recommended to use a virtual environment instead: https://pip.pypa.io/warnings/venv\u001b[0m\n",
            "\u001b[38;5;2m✔ Download and installation successful\u001b[0m\n",
            "You can now load the package via spacy.load('ru_core_news_lg')\n"
          ]
        }
      ]
    },
    {
      "cell_type": "code",
      "source": [
        "import spacy\n",
        "nlp = spacy.load('ru_core_news_lg')\n",
        "tok = nlp.tokenizer"
      ],
      "metadata": {
        "id": "nDEATSzimsIi"
      },
      "id": "nDEATSzimsIi",
      "execution_count": null,
      "outputs": []
    },
    {
      "cell_type": "markdown",
      "source": [
        "Функция, получающая индекс слова в тексте по значению его первого и последнего символов."
      ],
      "metadata": {
        "id": "oLZf0lA9thLK"
      },
      "id": "oLZf0lA9thLK"
    },
    {
      "cell_type": "code",
      "source": [
        "import string \n",
        "def index_of_word(text, token, start):\n",
        "    tokenized = tok(text)\n",
        "    ngram = tok(token)\n",
        "    if len(ngram) > 1:\n",
        "        token = ngram[0].text\n",
        "    shift = len(ngram) - 1\n",
        "    new_start = 0\n",
        "    for i, t in enumerate(tokenized):\n",
        "        t = t.text\n",
        "        if t == token:\n",
        "            if text.index(t, new_start) == start:\n",
        "                return i + shift\n",
        "            else:\n",
        "                new_start = (text.index(t, new_start) + len(token))"
      ],
      "metadata": {
        "id": "xv8oTU9V_WyT"
      },
      "id": "xv8oTU9V_WyT",
      "execution_count": null,
      "outputs": []
    },
    {
      "cell_type": "markdown",
      "source": [
        "Функция, получающая некоторые зависимые (в основном для именной группы) с помощью синтаксического анализа spaCy."
      ],
      "metadata": {
        "id": "OObXet87to3U"
      },
      "id": "OObXet87to3U"
    },
    {
      "cell_type": "code",
      "source": [
        "def get_nps(text, start, end):\n",
        "  first_w = index_of_word(text, text[start:end], start)\n",
        "  doc = nlp(text)\n",
        "  children_second_level = []\n",
        "  i = doc[first_w]\n",
        "  for child in i.lefts:\n",
        "    if child.dep_ == 'amod' or child.dep_ == 'acl' or child.dep_ == 'advmod':\n",
        "      for x in child.lefts:\n",
        "        if x.dep_ != 'nsubj':\n",
        "          if x.lefts:\n",
        "            for y in x.lefts:\n",
        "              children_second_level.append(y.text)\n",
        "          children_second_level.append(x.text)\n",
        "      children_second_level.append(child.text)\n",
        "  children_second_level.append(i.text)\n",
        "  for child in i.rights:\n",
        "    if child.dep_ == 'nmod':\n",
        "      children_second_level.append(child.text)\n",
        "  for x in i.head.head.children:\n",
        "    if x.dep_ == 'advmod':\n",
        "      children_second_level.append(x.text)\n",
        "  return children_second_level"
      ],
      "metadata": {
        "id": "XIfVwtbo-vG9"
      },
      "id": "XIfVwtbo-vG9",
      "execution_count": null,
      "outputs": []
    },
    {
      "cell_type": "markdown",
      "source": [
        "Функция, получающая вершину и некоторые зависимые вершины искомого слова-аспекта."
      ],
      "metadata": {
        "id": "pvZelgLzty64"
      },
      "id": "pvZelgLzty64"
    },
    {
      "cell_type": "code",
      "source": [
        "def get_pred_adj(text, start, end):\n",
        "  first_w = index_of_word(text, text[start:end], start)\n",
        "  doc = nlp(text)\n",
        "  st_pred = []\n",
        "  i = doc[first_w]\n",
        "  if i.dep_ == 'nsubj':\n",
        "    st_pred.append(i.text)\n",
        "    for dep in i.head.lefts:\n",
        "      if dep.dep_ not in ['cc', 'punct', 'conj']:\n",
        "        if dep.lefts:\n",
        "          for x in dep.lefts:\n",
        "            if x.dep_ not in ['cc', 'punct']:\n",
        "              st_pred.append(x.text)\n",
        "        if dep.text != i.text:\n",
        "          if dep.dep_ not in ['cc', 'punct']:\n",
        "            st_pred.append(dep.text)\n",
        "        if dep.rights:\n",
        "          for x in dep.rights:\n",
        "            if x.dep_ not in ['cc', 'punct']:\n",
        "              st_pred.append(x.text)\n",
        "    st_pred.append(i.head.text)\n",
        "    for dep in i.head.rights:\n",
        "      if dep.dep_ not in ['cc', 'punct', 'conj']:\n",
        "        if dep.lefts:\n",
        "          for x in dep.lefts:\n",
        "            if x.dep_ not in ['cc', 'punct']:\n",
        "              st_pred.append(x.text)\n",
        "        if dep.text != i.text:\n",
        "          if dep.dep_ not in ['cc', 'punct', 'conj']:\n",
        "            st_pred.append(dep.text)\n",
        "        if dep.rights:\n",
        "          for x in dep.rights:\n",
        "            if x.dep_ not in ['cc', 'punct', 'conj']:\n",
        "              st_pred.append(x.text)\n",
        "  return st_pred"
      ],
      "metadata": {
        "id": "Wcvgpt_6oe3f"
      },
      "id": "Wcvgpt_6oe3f",
      "execution_count": null,
      "outputs": []
    },
    {
      "cell_type": "markdown",
      "source": [
        "Функция, возвращающая группы аспекта, его зависимые, либо, если таковых не нашлось, вершину."
      ],
      "metadata": {
        "id": "aHyok_CSt6HP"
      },
      "id": "aHyok_CSt6HP"
    },
    {
      "cell_type": "code",
      "source": [
        "def get_groups(text, start, end):\n",
        "  try:\n",
        "    group = get_nps(text, start, end)\n",
        "    if len(group) < 2:\n",
        "      group_1 = get_pred_adj(text, start, end)\n",
        "      if group_1 == []:\n",
        "        return word_tokenize(text)\n",
        "      else:\n",
        "        return group_1\n",
        "    else:\n",
        "      return group\n",
        "  except:\n",
        "    return word_tokenize(text)"
      ],
      "metadata": {
        "id": "8CrZPVEX-7PB"
      },
      "id": "8CrZPVEX-7PB",
      "execution_count": null,
      "outputs": []
    },
    {
      "cell_type": "markdown",
      "source": [
        "Обрабатываем тестовые данные (аспекты, выделенные на предыдущем этапе)."
      ],
      "metadata": {
        "id": "jpHTEmiluCo9"
      },
      "id": "jpHTEmiluCo9"
    },
    {
      "cell_type": "code",
      "source": [
        "result['parts'] = result.progress_apply(lambda row: get_groups(row['text'], row['start'], row['end']), axis=1)"
      ],
      "metadata": {
        "colab": {
          "base_uri": "https://localhost:8080/"
        },
        "id": "i0Uy6GYEOjeB",
        "outputId": "2337030e-029d-452a-bc67-9ef6ac2169fc"
      },
      "id": "i0Uy6GYEOjeB",
      "execution_count": null,
      "outputs": [
        {
          "output_type": "stream",
          "name": "stderr",
          "text": [
            "100%|██████████| 1405/1405 [02:20<00:00,  9.97it/s]\n"
          ]
        }
      ]
    },
    {
      "cell_type": "markdown",
      "source": [
        "Открываем доработанный нами тональный словарь."
      ],
      "metadata": {
        "id": "Lp2EdUD1uHs8"
      },
      "id": "Lp2EdUD1uHs8"
    },
    {
      "cell_type": "code",
      "source": [
        "karta_dict = kartaslov.set_index('term')['tag'].to_dict()"
      ],
      "metadata": {
        "id": "ga8kVtBmFG76"
      },
      "id": "ga8kVtBmFG76",
      "execution_count": null,
      "outputs": []
    },
    {
      "cell_type": "code",
      "source": [
        "pip install pymorphy2"
      ],
      "metadata": {
        "colab": {
          "base_uri": "https://localhost:8080/"
        },
        "id": "dDFmYMQhKNQ6",
        "outputId": "a7b1c2c2-6f03-4826-a1dd-3a4de7bfe875"
      },
      "id": "dDFmYMQhKNQ6",
      "execution_count": null,
      "outputs": [
        {
          "output_type": "stream",
          "name": "stdout",
          "text": [
            "Requirement already satisfied: pymorphy2 in /usr/local/lib/python3.7/dist-packages (0.9.1)\n",
            "Requirement already satisfied: pymorphy2-dicts-ru<3.0,>=2.4 in /usr/local/lib/python3.7/dist-packages (from pymorphy2) (2.4.417127.4579844)\n",
            "Requirement already satisfied: dawg-python>=0.7.1 in /usr/local/lib/python3.7/dist-packages (from pymorphy2) (0.7.2)\n",
            "Requirement already satisfied: docopt>=0.6 in /usr/local/lib/python3.7/dist-packages (from pymorphy2) (0.6.2)\n",
            "\u001b[33mWARNING: Running pip as the 'root' user can result in broken permissions and conflicting behaviour with the system package manager. It is recommended to use a virtual environment instead: https://pip.pypa.io/warnings/venv\u001b[0m\n"
          ]
        }
      ]
    },
    {
      "cell_type": "code",
      "source": [
        "from pymorphy2 import MorphAnalyzer\n",
        "morph = MorphAnalyzer()"
      ],
      "metadata": {
        "id": "49P-VcpPKVNb"
      },
      "id": "49P-VcpPKVNb",
      "execution_count": null,
      "outputs": []
    },
    {
      "cell_type": "markdown",
      "source": [
        "Получаем сентимент для каждой группы (сумма сентиментов каждого слова, при отрицательной тональности -1, при положительной 1, при нейтральной 0."
      ],
      "metadata": {
        "id": "-hUXgiQ_uLcJ"
      },
      "id": "-hUXgiQ_uLcJ"
    },
    {
      "cell_type": "code",
      "source": [
        "def get_sentiment(list_words):\n",
        "  sent_num = 0\n",
        "  for word in list_words:\n",
        "    word = morph.parse(word.lower())[0].normal_form\n",
        "    if word in karta_dict.keys():\n",
        "      if karta_dict[word] == 'PSTV':\n",
        "        sent_num += 1\n",
        "      elif karta_dict[word] == 'NGTV':\n",
        "        sent_num -= 1\n",
        "  if sent_num < 0:\n",
        "    return 2\n",
        "  if sent_num > 0:\n",
        "    return 1\n",
        "  if sent_num == 0:\n",
        "    return 0"
      ],
      "metadata": {
        "id": "Rj8imOVEEid_"
      },
      "id": "Rj8imOVEEid_",
      "execution_count": null,
      "outputs": []
    },
    {
      "cell_type": "code",
      "source": [
        "result['sentiment'] = result['parts'].progress_apply(get_sentiment)"
      ],
      "metadata": {
        "colab": {
          "base_uri": "https://localhost:8080/"
        },
        "id": "yVNoh8zFH8yP",
        "outputId": "24250567-273d-4b76-a3f1-3deb7d7712e1"
      },
      "id": "yVNoh8zFH8yP",
      "execution_count": null,
      "outputs": [
        {
          "output_type": "stream",
          "name": "stderr",
          "text": [
            "100%|██████████| 1405/1405 [00:23<00:00, 60.05it/s]\n"
          ]
        }
      ]
    },
    {
      "cell_type": "markdown",
      "source": [
        "Приводим файл в необходимый для подсчета качества вид и скачиваем его."
      ],
      "metadata": {
        "id": "FZJX2bvFuZg2"
      },
      "id": "FZJX2bvFuZg2"
    },
    {
      "cell_type": "code",
      "source": [
        "del result['parts']\n",
        "del result['text']"
      ],
      "metadata": {
        "id": "5eXy-fUieyiV"
      },
      "id": "5eXy-fUieyiV",
      "execution_count": null,
      "outputs": []
    },
    {
      "cell_type": "code",
      "source": [
        "def make_val(number):\n",
        "  if number == 0:\n",
        "    return 'neutral'\n",
        "  if number == 1:\n",
        "    return 'positive'\n",
        "  if number == 2:\n",
        "    return 'negative'"
      ],
      "metadata": {
        "id": "ESO-XmE5hI9M"
      },
      "id": "ESO-XmE5hI9M",
      "execution_count": null,
      "outputs": []
    },
    {
      "cell_type": "code",
      "source": [
        "result['sentiment'] = result['sentiment'].apply(make_val)"
      ],
      "metadata": {
        "id": "hUayL861hRSY"
      },
      "id": "hUayL861hRSY",
      "execution_count": null,
      "outputs": []
    },
    {
      "cell_type": "code",
      "source": [
        "result.to_csv('test.txt', sep='\\t', header=None, index=False)"
      ],
      "metadata": {
        "id": "qDlU8MDqMMr3"
      },
      "id": "qDlU8MDqMMr3",
      "execution_count": null,
      "outputs": []
    },
    {
      "cell_type": "markdown",
      "source": [
        "Считаем качество."
      ],
      "metadata": {
        "id": "PKEeWmnlufad"
      },
      "id": "PKEeWmnlufad"
    },
    {
      "cell_type": "code",
      "source": [
        "gold_test_path = \"dev_aspects.txt\"\n",
        "pred_test_path = \"test.txt\""
      ],
      "metadata": {
        "id": "XGWUSY6NfUdF"
      },
      "id": "XGWUSY6NfUdF",
      "execution_count": null,
      "outputs": []
    },
    {
      "cell_type": "code",
      "source": [
        "from collections import defaultdict"
      ],
      "metadata": {
        "id": "VDVwnvDSfXD3"
      },
      "id": "VDVwnvDSfXD3",
      "execution_count": null,
      "outputs": []
    },
    {
      "cell_type": "code",
      "source": [
        "gold_aspect_cats = {}\n",
        "with open(gold_test_path) as fg:\n",
        "    for line in fg:\n",
        "        line = line.rstrip('\\r\\n').split('\\t')\n",
        "        if line[0] not in gold_aspect_cats:\n",
        "            gold_aspect_cats[line[0]] = {\"starts\":[], \"ends\":[], \"cats\":[], \"sents\":[]}\n",
        "        gold_aspect_cats[line[0]][\"starts\"].append(int(line[3]))\n",
        "        gold_aspect_cats[line[0]][\"ends\"].append(int(line[4]))\n",
        "        gold_aspect_cats[line[0]][\"cats\"].append(line[1])\n",
        "        gold_aspect_cats[line[0]][\"sents\"].append(line[5])"
      ],
      "metadata": {
        "id": "C5JukIO9fZ4o"
      },
      "id": "C5JukIO9fZ4o",
      "execution_count": null,
      "outputs": []
    },
    {
      "cell_type": "code",
      "source": [
        "full_match, partial_match, full_cat_match, partial_cat_match = 0, 0, 0, 0\n",
        "total = 0\n",
        "fully_matched_pairs = []\n",
        "partially_matched_pairs = []\n",
        "with open(pred_test_path) as fp:\n",
        "    for line in fp:    \n",
        "        total += 1\n",
        "        line = line.rstrip('\\r\\n').split('\\t')\n",
        "        start, end = int(line[3]), int(line[4])\n",
        "        category = line[1]\n",
        "        doc_gold_aspect_cats = gold_aspect_cats[line[0]]\n",
        "        if start in doc_gold_aspect_cats[\"starts\"]:\n",
        "            i = doc_gold_aspect_cats[\"starts\"].index(start)\n",
        "            if doc_gold_aspect_cats[\"ends\"][i] == end:\n",
        "                full_match += 1\n",
        "                if doc_gold_aspect_cats[\"cats\"][i] == category:\n",
        "                    full_cat_match += 1\n",
        "                else:\n",
        "                    partial_cat_match += 1\n",
        "                fully_matched_pairs.append(\n",
        "                    (\n",
        "                        [\n",
        "                            doc_gold_aspect_cats[\"starts\"][i], \n",
        "                            doc_gold_aspect_cats[\"ends\"][i], \n",
        "                            doc_gold_aspect_cats[\"cats\"][i],\n",
        "                            doc_gold_aspect_cats[\"sents\"][i]\n",
        "                        ],\n",
        "                        line\n",
        "                    )\n",
        "                )\n",
        "                continue\n",
        "        for s_pos in doc_gold_aspect_cats[\"starts\"]:\n",
        "            if start <= s_pos:\n",
        "                i = doc_gold_aspect_cats[\"starts\"].index(s_pos)\n",
        "                if doc_gold_aspect_cats[\"ends\"][i] == end:\n",
        "                    partial_match += 1\n",
        "                    partially_matched_pairs.append(\n",
        "                        (\n",
        "                            [\n",
        "                                doc_gold_aspect_cats[\"starts\"][i], \n",
        "                                doc_gold_aspect_cats[\"ends\"][i], \n",
        "                                doc_gold_aspect_cats[\"cats\"][i],\n",
        "                                doc_gold_aspect_cats[\"sents\"][i]\n",
        "                            ],\n",
        "                            line\n",
        "                        )\n",
        "                    )\n",
        "                    if doc_gold_aspect_cats[\"cats\"][i] == category:\n",
        "                        partial_cat_match += 1\n",
        "                    continue\n",
        "                matched = False\n",
        "                for e_pos in doc_gold_aspect_cats[\"ends\"][i:]:\n",
        "                    if s_pos <= end <= e_pos:\n",
        "                        partial_match += 1\n",
        "                        partially_matched_pairs.append(\n",
        "                            (\n",
        "                                [\n",
        "                                    doc_gold_aspect_cats[\"starts\"][i], \n",
        "                                    doc_gold_aspect_cats[\"ends\"][i], \n",
        "                                    doc_gold_aspect_cats[\"cats\"][i],\n",
        "                                    doc_gold_aspect_cats[\"sents\"][i]\n",
        "                                ],\n",
        "                                line\n",
        "                            )\n",
        "                        )\n",
        "                        if doc_gold_aspect_cats[\"cats\"][i] == category:\n",
        "                            partial_cat_match += 1\n",
        "                        matched = True\n",
        "                        break\n",
        "                if matched:\n",
        "                    break\n",
        "            if start > s_pos:\n",
        "                i = doc_gold_aspect_cats[\"starts\"].index(s_pos)\n",
        "                if start < doc_gold_aspect_cats[\"ends\"][i] <= end:\n",
        "                    partial_match += 1\n",
        "                    partially_matched_pairs.append(\n",
        "                        (\n",
        "                            [\n",
        "                                doc_gold_aspect_cats[\"starts\"][i], \n",
        "                                doc_gold_aspect_cats[\"ends\"][i], \n",
        "                                doc_gold_aspect_cats[\"cats\"][i],\n",
        "                                doc_gold_aspect_cats[\"sents\"][i]\n",
        "                            ],\n",
        "                            line\n",
        "                        )\n",
        "                    )\n",
        "                    if doc_gold_aspect_cats[\"cats\"][i] == category:\n",
        "                        partial_cat_match += 1\n",
        "                    break"
      ],
      "metadata": {
        "id": "aZCkYY72fcYf"
      },
      "id": "aZCkYY72fcYf",
      "execution_count": null,
      "outputs": []
    },
    {
      "cell_type": "code",
      "source": [
        "gold_size = sum([len(gold_aspect_cats[x][\"cats\"]) for x in gold_aspect_cats])"
      ],
      "metadata": {
        "id": "eI5DBB4ngZ-h"
      },
      "id": "eI5DBB4ngZ-h",
      "execution_count": null,
      "outputs": []
    },
    {
      "cell_type": "code",
      "source": [
        "def sentiment_accuracy(matches):\n",
        "    matched_sentiment = 0.\n",
        "    for pair in matches:\n",
        "        *_, gold_s = pair[0]\n",
        "        *_, pred_s = pair[1]\n",
        "        if gold_s == pred_s:\n",
        "            matched_sentiment += 1\n",
        "    print(f\"Mention sentiment accuracy: {matched_sentiment / len(matches)}\")"
      ],
      "metadata": {
        "id": "QDqYYB-sgxB-"
      },
      "id": "QDqYYB-sgxB-",
      "execution_count": null,
      "outputs": []
    },
    {
      "cell_type": "code",
      "source": [
        "sentiment_accuracy(fully_matched_pairs)"
      ],
      "metadata": {
        "colab": {
          "base_uri": "https://localhost:8080/"
        },
        "id": "VuV592mEgys9",
        "outputId": "f7117585-7b6b-4a44-84fb-6f5d87e2c202"
      },
      "id": "VuV592mEgys9",
      "execution_count": null,
      "outputs": [
        {
          "output_type": "stream",
          "name": "stdout",
          "text": [
            "Mention sentiment accuracy: 0.5313432835820896\n"
          ]
        }
      ]
    },
    {
      "cell_type": "code",
      "source": [
        "sentiment_accuracy(partially_matched_pairs)"
      ],
      "metadata": {
        "colab": {
          "base_uri": "https://localhost:8080/"
        },
        "id": "cBEFDa5Vg0AD",
        "outputId": "3920f09a-83c1-4982-b77c-93496ce28bc4"
      },
      "id": "cBEFDa5Vg0AD",
      "execution_count": null,
      "outputs": [
        {
          "output_type": "stream",
          "name": "stdout",
          "text": [
            "Mention sentiment accuracy: 0.5034013605442177\n"
          ]
        }
      ]
    }
  ],
  "metadata": {
    "kernelspec": {
      "display_name": "Python 3",
      "language": "python",
      "name": "python3"
    },
    "language_info": {
      "codemirror_mode": {
        "name": "ipython",
        "version": 3
      },
      "file_extension": ".py",
      "mimetype": "text/x-python",
      "name": "python",
      "nbconvert_exporter": "python",
      "pygments_lexer": "ipython3",
      "version": "3.9.4"
    },
    "colab": {
      "name": "Experiment_synt_groups.ipynb",
      "provenance": [],
      "collapsed_sections": [
        "fe6f0671"
      ]
    }
  },
  "nbformat": 4,
  "nbformat_minor": 5
}